{
 "cells": [
  {
   "cell_type": "code",
   "execution_count": 18,
   "metadata": {},
   "outputs": [],
   "source": [
    "import pandas as pd\n",
    "import matplotlib.pyplot as plt\n",
    "import plotly.express as px\n",
    "import seaborn as sns\n",
    "import numpy as np\n",
    "from sklearn.model_selection import train_test_split\n",
    "from sklearn.linear_model import LinearRegression\n",
    "from sklearn.ensemble import RandomForestRegressor\n",
    "from sklearn.metrics import mean_squared_error\n",
    "\n"
   ]
  },
  {
   "cell_type": "code",
   "execution_count": 19,
   "metadata": {},
   "outputs": [
    {
     "data": {
      "text/html": [
       "<div>\n",
       "<style scoped>\n",
       "    .dataframe tbody tr th:only-of-type {\n",
       "        vertical-align: middle;\n",
       "    }\n",
       "\n",
       "    .dataframe tbody tr th {\n",
       "        vertical-align: top;\n",
       "    }\n",
       "\n",
       "    .dataframe thead th {\n",
       "        text-align: right;\n",
       "    }\n",
       "</style>\n",
       "<table border=\"1\" class=\"dataframe\">\n",
       "  <thead>\n",
       "    <tr style=\"text-align: right;\">\n",
       "      <th></th>\n",
       "      <th>Driver</th>\n",
       "      <th>Nationality</th>\n",
       "      <th>Seasons</th>\n",
       "      <th>Championships</th>\n",
       "      <th>Race_Entries</th>\n",
       "      <th>Race_Starts</th>\n",
       "      <th>Pole_Positions</th>\n",
       "      <th>Race_Wins</th>\n",
       "      <th>Podiums</th>\n",
       "      <th>Fastest_Laps</th>\n",
       "      <th>...</th>\n",
       "      <th>Championship Years</th>\n",
       "      <th>Decade</th>\n",
       "      <th>Pole_Rate</th>\n",
       "      <th>Start_Rate</th>\n",
       "      <th>Win_Rate</th>\n",
       "      <th>Podium_Rate</th>\n",
       "      <th>FastLap_Rate</th>\n",
       "      <th>Points_Per_Entry</th>\n",
       "      <th>Years_Active</th>\n",
       "      <th>Champion</th>\n",
       "    </tr>\n",
       "  </thead>\n",
       "  <tbody>\n",
       "    <tr>\n",
       "      <th>0</th>\n",
       "      <td>Carlo Abate</td>\n",
       "      <td>Italy</td>\n",
       "      <td>[1962, 1963]</td>\n",
       "      <td>0.0</td>\n",
       "      <td>3.0</td>\n",
       "      <td>0.0</td>\n",
       "      <td>0.0</td>\n",
       "      <td>0.0</td>\n",
       "      <td>0.0</td>\n",
       "      <td>0.0</td>\n",
       "      <td>...</td>\n",
       "      <td>NaN</td>\n",
       "      <td>1960</td>\n",
       "      <td>0.0</td>\n",
       "      <td>0.000000</td>\n",
       "      <td>0.0</td>\n",
       "      <td>0.0</td>\n",
       "      <td>0.000000</td>\n",
       "      <td>0.000000</td>\n",
       "      <td>2</td>\n",
       "      <td>False</td>\n",
       "    </tr>\n",
       "    <tr>\n",
       "      <th>1</th>\n",
       "      <td>George Abecassis</td>\n",
       "      <td>United Kingdom</td>\n",
       "      <td>[1951, 1952]</td>\n",
       "      <td>0.0</td>\n",
       "      <td>2.0</td>\n",
       "      <td>2.0</td>\n",
       "      <td>0.0</td>\n",
       "      <td>0.0</td>\n",
       "      <td>0.0</td>\n",
       "      <td>0.0</td>\n",
       "      <td>...</td>\n",
       "      <td>NaN</td>\n",
       "      <td>1950</td>\n",
       "      <td>0.0</td>\n",
       "      <td>1.000000</td>\n",
       "      <td>0.0</td>\n",
       "      <td>0.0</td>\n",
       "      <td>0.000000</td>\n",
       "      <td>0.000000</td>\n",
       "      <td>2</td>\n",
       "      <td>False</td>\n",
       "    </tr>\n",
       "    <tr>\n",
       "      <th>2</th>\n",
       "      <td>Kenny Acheson</td>\n",
       "      <td>United Kingdom</td>\n",
       "      <td>[1983, 1985]</td>\n",
       "      <td>0.0</td>\n",
       "      <td>10.0</td>\n",
       "      <td>3.0</td>\n",
       "      <td>0.0</td>\n",
       "      <td>0.0</td>\n",
       "      <td>0.0</td>\n",
       "      <td>0.0</td>\n",
       "      <td>...</td>\n",
       "      <td>NaN</td>\n",
       "      <td>1980</td>\n",
       "      <td>0.0</td>\n",
       "      <td>0.300000</td>\n",
       "      <td>0.0</td>\n",
       "      <td>0.0</td>\n",
       "      <td>0.000000</td>\n",
       "      <td>0.000000</td>\n",
       "      <td>2</td>\n",
       "      <td>False</td>\n",
       "    </tr>\n",
       "    <tr>\n",
       "      <th>3</th>\n",
       "      <td>Andrea de Adamich</td>\n",
       "      <td>Italy</td>\n",
       "      <td>[1968, 1970, 1971, 1972, 1973]</td>\n",
       "      <td>0.0</td>\n",
       "      <td>36.0</td>\n",
       "      <td>30.0</td>\n",
       "      <td>0.0</td>\n",
       "      <td>0.0</td>\n",
       "      <td>0.0</td>\n",
       "      <td>0.0</td>\n",
       "      <td>...</td>\n",
       "      <td>NaN</td>\n",
       "      <td>1970</td>\n",
       "      <td>0.0</td>\n",
       "      <td>0.833333</td>\n",
       "      <td>0.0</td>\n",
       "      <td>0.0</td>\n",
       "      <td>0.000000</td>\n",
       "      <td>0.166667</td>\n",
       "      <td>5</td>\n",
       "      <td>False</td>\n",
       "    </tr>\n",
       "    <tr>\n",
       "      <th>4</th>\n",
       "      <td>Philippe Adams</td>\n",
       "      <td>Belgium</td>\n",
       "      <td>[1994]</td>\n",
       "      <td>0.0</td>\n",
       "      <td>2.0</td>\n",
       "      <td>2.0</td>\n",
       "      <td>0.0</td>\n",
       "      <td>0.0</td>\n",
       "      <td>0.0</td>\n",
       "      <td>0.0</td>\n",
       "      <td>...</td>\n",
       "      <td>NaN</td>\n",
       "      <td>1990</td>\n",
       "      <td>0.0</td>\n",
       "      <td>1.000000</td>\n",
       "      <td>0.0</td>\n",
       "      <td>0.0</td>\n",
       "      <td>0.000000</td>\n",
       "      <td>0.000000</td>\n",
       "      <td>1</td>\n",
       "      <td>False</td>\n",
       "    </tr>\n",
       "    <tr>\n",
       "      <th>...</th>\n",
       "      <td>...</td>\n",
       "      <td>...</td>\n",
       "      <td>...</td>\n",
       "      <td>...</td>\n",
       "      <td>...</td>\n",
       "      <td>...</td>\n",
       "      <td>...</td>\n",
       "      <td>...</td>\n",
       "      <td>...</td>\n",
       "      <td>...</td>\n",
       "      <td>...</td>\n",
       "      <td>...</td>\n",
       "      <td>...</td>\n",
       "      <td>...</td>\n",
       "      <td>...</td>\n",
       "      <td>...</td>\n",
       "      <td>...</td>\n",
       "      <td>...</td>\n",
       "      <td>...</td>\n",
       "      <td>...</td>\n",
       "      <td>...</td>\n",
       "    </tr>\n",
       "    <tr>\n",
       "      <th>863</th>\n",
       "      <td>Emilio Zapico</td>\n",
       "      <td>Spain</td>\n",
       "      <td>[1976]</td>\n",
       "      <td>0.0</td>\n",
       "      <td>1.0</td>\n",
       "      <td>0.0</td>\n",
       "      <td>0.0</td>\n",
       "      <td>0.0</td>\n",
       "      <td>0.0</td>\n",
       "      <td>0.0</td>\n",
       "      <td>...</td>\n",
       "      <td>NaN</td>\n",
       "      <td>1980</td>\n",
       "      <td>0.0</td>\n",
       "      <td>0.000000</td>\n",
       "      <td>0.0</td>\n",
       "      <td>0.0</td>\n",
       "      <td>0.000000</td>\n",
       "      <td>0.000000</td>\n",
       "      <td>1</td>\n",
       "      <td>False</td>\n",
       "    </tr>\n",
       "    <tr>\n",
       "      <th>864</th>\n",
       "      <td>Zhou Guanyu</td>\n",
       "      <td>China</td>\n",
       "      <td>[2022]</td>\n",
       "      <td>0.0</td>\n",
       "      <td>23.0</td>\n",
       "      <td>23.0</td>\n",
       "      <td>0.0</td>\n",
       "      <td>0.0</td>\n",
       "      <td>0.0</td>\n",
       "      <td>2.0</td>\n",
       "      <td>...</td>\n",
       "      <td>NaN</td>\n",
       "      <td>2020</td>\n",
       "      <td>0.0</td>\n",
       "      <td>1.000000</td>\n",
       "      <td>0.0</td>\n",
       "      <td>0.0</td>\n",
       "      <td>0.086957</td>\n",
       "      <td>0.260870</td>\n",
       "      <td>1</td>\n",
       "      <td>False</td>\n",
       "    </tr>\n",
       "    <tr>\n",
       "      <th>865</th>\n",
       "      <td>Ricardo Zonta</td>\n",
       "      <td>Brazil</td>\n",
       "      <td>[1999, 2000, 2001, 2004, 2005]</td>\n",
       "      <td>0.0</td>\n",
       "      <td>37.0</td>\n",
       "      <td>36.0</td>\n",
       "      <td>0.0</td>\n",
       "      <td>0.0</td>\n",
       "      <td>0.0</td>\n",
       "      <td>0.0</td>\n",
       "      <td>...</td>\n",
       "      <td>NaN</td>\n",
       "      <td>2000</td>\n",
       "      <td>0.0</td>\n",
       "      <td>0.972973</td>\n",
       "      <td>0.0</td>\n",
       "      <td>0.0</td>\n",
       "      <td>0.000000</td>\n",
       "      <td>0.081081</td>\n",
       "      <td>5</td>\n",
       "      <td>False</td>\n",
       "    </tr>\n",
       "    <tr>\n",
       "      <th>866</th>\n",
       "      <td>Renzo Zorzi</td>\n",
       "      <td>Italy</td>\n",
       "      <td>[1975, 1976, 1977]</td>\n",
       "      <td>0.0</td>\n",
       "      <td>7.0</td>\n",
       "      <td>7.0</td>\n",
       "      <td>0.0</td>\n",
       "      <td>0.0</td>\n",
       "      <td>0.0</td>\n",
       "      <td>0.0</td>\n",
       "      <td>...</td>\n",
       "      <td>NaN</td>\n",
       "      <td>1980</td>\n",
       "      <td>0.0</td>\n",
       "      <td>1.000000</td>\n",
       "      <td>0.0</td>\n",
       "      <td>0.0</td>\n",
       "      <td>0.000000</td>\n",
       "      <td>0.142857</td>\n",
       "      <td>3</td>\n",
       "      <td>False</td>\n",
       "    </tr>\n",
       "    <tr>\n",
       "      <th>867</th>\n",
       "      <td>Ricardo Zunino</td>\n",
       "      <td>Argentina</td>\n",
       "      <td>[1979, 1980, 1981]</td>\n",
       "      <td>0.0</td>\n",
       "      <td>11.0</td>\n",
       "      <td>10.0</td>\n",
       "      <td>0.0</td>\n",
       "      <td>0.0</td>\n",
       "      <td>0.0</td>\n",
       "      <td>0.0</td>\n",
       "      <td>...</td>\n",
       "      <td>NaN</td>\n",
       "      <td>1980</td>\n",
       "      <td>0.0</td>\n",
       "      <td>0.909091</td>\n",
       "      <td>0.0</td>\n",
       "      <td>0.0</td>\n",
       "      <td>0.000000</td>\n",
       "      <td>0.000000</td>\n",
       "      <td>3</td>\n",
       "      <td>False</td>\n",
       "    </tr>\n",
       "  </tbody>\n",
       "</table>\n",
       "<p>868 rows × 22 columns</p>\n",
       "</div>"
      ],
      "text/plain": [
       "                Driver     Nationality                         Seasons  \\\n",
       "0          Carlo Abate           Italy                    [1962, 1963]   \n",
       "1     George Abecassis  United Kingdom                    [1951, 1952]   \n",
       "2        Kenny Acheson  United Kingdom                    [1983, 1985]   \n",
       "3    Andrea de Adamich           Italy  [1968, 1970, 1971, 1972, 1973]   \n",
       "4       Philippe Adams         Belgium                          [1994]   \n",
       "..                 ...             ...                             ...   \n",
       "863      Emilio Zapico           Spain                          [1976]   \n",
       "864        Zhou Guanyu           China                          [2022]   \n",
       "865      Ricardo Zonta          Brazil  [1999, 2000, 2001, 2004, 2005]   \n",
       "866        Renzo Zorzi           Italy              [1975, 1976, 1977]   \n",
       "867     Ricardo Zunino       Argentina              [1979, 1980, 1981]   \n",
       "\n",
       "     Championships  Race_Entries  Race_Starts  Pole_Positions  Race_Wins  \\\n",
       "0              0.0           3.0          0.0             0.0        0.0   \n",
       "1              0.0           2.0          2.0             0.0        0.0   \n",
       "2              0.0          10.0          3.0             0.0        0.0   \n",
       "3              0.0          36.0         30.0             0.0        0.0   \n",
       "4              0.0           2.0          2.0             0.0        0.0   \n",
       "..             ...           ...          ...             ...        ...   \n",
       "863            0.0           1.0          0.0             0.0        0.0   \n",
       "864            0.0          23.0         23.0             0.0        0.0   \n",
       "865            0.0          37.0         36.0             0.0        0.0   \n",
       "866            0.0           7.0          7.0             0.0        0.0   \n",
       "867            0.0          11.0         10.0             0.0        0.0   \n",
       "\n",
       "     Podiums  Fastest_Laps  ...  Championship Years  Decade Pole_Rate  \\\n",
       "0        0.0           0.0  ...                 NaN    1960       0.0   \n",
       "1        0.0           0.0  ...                 NaN    1950       0.0   \n",
       "2        0.0           0.0  ...                 NaN    1980       0.0   \n",
       "3        0.0           0.0  ...                 NaN    1970       0.0   \n",
       "4        0.0           0.0  ...                 NaN    1990       0.0   \n",
       "..       ...           ...  ...                 ...     ...       ...   \n",
       "863      0.0           0.0  ...                 NaN    1980       0.0   \n",
       "864      0.0           2.0  ...                 NaN    2020       0.0   \n",
       "865      0.0           0.0  ...                 NaN    2000       0.0   \n",
       "866      0.0           0.0  ...                 NaN    1980       0.0   \n",
       "867      0.0           0.0  ...                 NaN    1980       0.0   \n",
       "\n",
       "     Start_Rate  Win_Rate  Podium_Rate  FastLap_Rate  Points_Per_Entry  \\\n",
       "0      0.000000       0.0          0.0      0.000000          0.000000   \n",
       "1      1.000000       0.0          0.0      0.000000          0.000000   \n",
       "2      0.300000       0.0          0.0      0.000000          0.000000   \n",
       "3      0.833333       0.0          0.0      0.000000          0.166667   \n",
       "4      1.000000       0.0          0.0      0.000000          0.000000   \n",
       "..          ...       ...          ...           ...               ...   \n",
       "863    0.000000       0.0          0.0      0.000000          0.000000   \n",
       "864    1.000000       0.0          0.0      0.086957          0.260870   \n",
       "865    0.972973       0.0          0.0      0.000000          0.081081   \n",
       "866    1.000000       0.0          0.0      0.000000          0.142857   \n",
       "867    0.909091       0.0          0.0      0.000000          0.000000   \n",
       "\n",
       "     Years_Active  Champion  \n",
       "0               2     False  \n",
       "1               2     False  \n",
       "2               2     False  \n",
       "3               5     False  \n",
       "4               1     False  \n",
       "..            ...       ...  \n",
       "863             1     False  \n",
       "864             1     False  \n",
       "865             5     False  \n",
       "866             3     False  \n",
       "867             3     False  \n",
       "\n",
       "[868 rows x 22 columns]"
      ]
     },
     "execution_count": 19,
     "metadata": {},
     "output_type": "execute_result"
    }
   ],
   "source": [
    "df = pd.read_csv(\"F1DriversDataset 2.csv\")\n",
    "df"
   ]
  },
  {
   "cell_type": "code",
   "execution_count": 20,
   "metadata": {},
   "outputs": [
    {
     "data": {
      "text/html": [
       "<div>\n",
       "<style scoped>\n",
       "    .dataframe tbody tr th:only-of-type {\n",
       "        vertical-align: middle;\n",
       "    }\n",
       "\n",
       "    .dataframe tbody tr th {\n",
       "        vertical-align: top;\n",
       "    }\n",
       "\n",
       "    .dataframe thead th {\n",
       "        text-align: right;\n",
       "    }\n",
       "</style>\n",
       "<table border=\"1\" class=\"dataframe\">\n",
       "  <thead>\n",
       "    <tr style=\"text-align: right;\">\n",
       "      <th></th>\n",
       "      <th>Driver</th>\n",
       "      <th>Nationality</th>\n",
       "      <th>Seasons</th>\n",
       "      <th>Championships</th>\n",
       "      <th>Race_Entries</th>\n",
       "      <th>Race_Starts</th>\n",
       "      <th>Pole_Positions</th>\n",
       "      <th>Race_Wins</th>\n",
       "      <th>Podiums</th>\n",
       "      <th>Fastest_Laps</th>\n",
       "      <th>...</th>\n",
       "      <th>Championship Years</th>\n",
       "      <th>Decade</th>\n",
       "      <th>Pole_Rate</th>\n",
       "      <th>Start_Rate</th>\n",
       "      <th>Win_Rate</th>\n",
       "      <th>Podium_Rate</th>\n",
       "      <th>FastLap_Rate</th>\n",
       "      <th>Points_Per_Entry</th>\n",
       "      <th>Years_Active</th>\n",
       "      <th>Champion</th>\n",
       "    </tr>\n",
       "  </thead>\n",
       "  <tbody>\n",
       "    <tr>\n",
       "      <th>0</th>\n",
       "      <td>Carlo Abate</td>\n",
       "      <td>Italy</td>\n",
       "      <td>[1962, 1963]</td>\n",
       "      <td>0.0</td>\n",
       "      <td>3.0</td>\n",
       "      <td>0.0</td>\n",
       "      <td>0.0</td>\n",
       "      <td>0.0</td>\n",
       "      <td>0.0</td>\n",
       "      <td>0.0</td>\n",
       "      <td>...</td>\n",
       "      <td>NaN</td>\n",
       "      <td>1960</td>\n",
       "      <td>0.0</td>\n",
       "      <td>0.000000</td>\n",
       "      <td>0.0</td>\n",
       "      <td>0.0</td>\n",
       "      <td>0.0</td>\n",
       "      <td>0.000000</td>\n",
       "      <td>2</td>\n",
       "      <td>False</td>\n",
       "    </tr>\n",
       "    <tr>\n",
       "      <th>1</th>\n",
       "      <td>George Abecassis</td>\n",
       "      <td>United Kingdom</td>\n",
       "      <td>[1951, 1952]</td>\n",
       "      <td>0.0</td>\n",
       "      <td>2.0</td>\n",
       "      <td>2.0</td>\n",
       "      <td>0.0</td>\n",
       "      <td>0.0</td>\n",
       "      <td>0.0</td>\n",
       "      <td>0.0</td>\n",
       "      <td>...</td>\n",
       "      <td>NaN</td>\n",
       "      <td>1950</td>\n",
       "      <td>0.0</td>\n",
       "      <td>1.000000</td>\n",
       "      <td>0.0</td>\n",
       "      <td>0.0</td>\n",
       "      <td>0.0</td>\n",
       "      <td>0.000000</td>\n",
       "      <td>2</td>\n",
       "      <td>False</td>\n",
       "    </tr>\n",
       "    <tr>\n",
       "      <th>2</th>\n",
       "      <td>Kenny Acheson</td>\n",
       "      <td>United Kingdom</td>\n",
       "      <td>[1983, 1985]</td>\n",
       "      <td>0.0</td>\n",
       "      <td>10.0</td>\n",
       "      <td>3.0</td>\n",
       "      <td>0.0</td>\n",
       "      <td>0.0</td>\n",
       "      <td>0.0</td>\n",
       "      <td>0.0</td>\n",
       "      <td>...</td>\n",
       "      <td>NaN</td>\n",
       "      <td>1980</td>\n",
       "      <td>0.0</td>\n",
       "      <td>0.300000</td>\n",
       "      <td>0.0</td>\n",
       "      <td>0.0</td>\n",
       "      <td>0.0</td>\n",
       "      <td>0.000000</td>\n",
       "      <td>2</td>\n",
       "      <td>False</td>\n",
       "    </tr>\n",
       "    <tr>\n",
       "      <th>3</th>\n",
       "      <td>Andrea de Adamich</td>\n",
       "      <td>Italy</td>\n",
       "      <td>[1968, 1970, 1971, 1972, 1973]</td>\n",
       "      <td>0.0</td>\n",
       "      <td>36.0</td>\n",
       "      <td>30.0</td>\n",
       "      <td>0.0</td>\n",
       "      <td>0.0</td>\n",
       "      <td>0.0</td>\n",
       "      <td>0.0</td>\n",
       "      <td>...</td>\n",
       "      <td>NaN</td>\n",
       "      <td>1970</td>\n",
       "      <td>0.0</td>\n",
       "      <td>0.833333</td>\n",
       "      <td>0.0</td>\n",
       "      <td>0.0</td>\n",
       "      <td>0.0</td>\n",
       "      <td>0.166667</td>\n",
       "      <td>5</td>\n",
       "      <td>False</td>\n",
       "    </tr>\n",
       "    <tr>\n",
       "      <th>4</th>\n",
       "      <td>Philippe Adams</td>\n",
       "      <td>Belgium</td>\n",
       "      <td>[1994]</td>\n",
       "      <td>0.0</td>\n",
       "      <td>2.0</td>\n",
       "      <td>2.0</td>\n",
       "      <td>0.0</td>\n",
       "      <td>0.0</td>\n",
       "      <td>0.0</td>\n",
       "      <td>0.0</td>\n",
       "      <td>...</td>\n",
       "      <td>NaN</td>\n",
       "      <td>1990</td>\n",
       "      <td>0.0</td>\n",
       "      <td>1.000000</td>\n",
       "      <td>0.0</td>\n",
       "      <td>0.0</td>\n",
       "      <td>0.0</td>\n",
       "      <td>0.000000</td>\n",
       "      <td>1</td>\n",
       "      <td>False</td>\n",
       "    </tr>\n",
       "  </tbody>\n",
       "</table>\n",
       "<p>5 rows × 22 columns</p>\n",
       "</div>"
      ],
      "text/plain": [
       "              Driver     Nationality                         Seasons  \\\n",
       "0        Carlo Abate           Italy                    [1962, 1963]   \n",
       "1   George Abecassis  United Kingdom                    [1951, 1952]   \n",
       "2      Kenny Acheson  United Kingdom                    [1983, 1985]   \n",
       "3  Andrea de Adamich           Italy  [1968, 1970, 1971, 1972, 1973]   \n",
       "4     Philippe Adams         Belgium                          [1994]   \n",
       "\n",
       "   Championships  Race_Entries  Race_Starts  Pole_Positions  Race_Wins  \\\n",
       "0            0.0           3.0          0.0             0.0        0.0   \n",
       "1            0.0           2.0          2.0             0.0        0.0   \n",
       "2            0.0          10.0          3.0             0.0        0.0   \n",
       "3            0.0          36.0         30.0             0.0        0.0   \n",
       "4            0.0           2.0          2.0             0.0        0.0   \n",
       "\n",
       "   Podiums  Fastest_Laps  ...  Championship Years  Decade Pole_Rate  \\\n",
       "0      0.0           0.0  ...                 NaN    1960       0.0   \n",
       "1      0.0           0.0  ...                 NaN    1950       0.0   \n",
       "2      0.0           0.0  ...                 NaN    1980       0.0   \n",
       "3      0.0           0.0  ...                 NaN    1970       0.0   \n",
       "4      0.0           0.0  ...                 NaN    1990       0.0   \n",
       "\n",
       "   Start_Rate  Win_Rate  Podium_Rate  FastLap_Rate  Points_Per_Entry  \\\n",
       "0    0.000000       0.0          0.0           0.0          0.000000   \n",
       "1    1.000000       0.0          0.0           0.0          0.000000   \n",
       "2    0.300000       0.0          0.0           0.0          0.000000   \n",
       "3    0.833333       0.0          0.0           0.0          0.166667   \n",
       "4    1.000000       0.0          0.0           0.0          0.000000   \n",
       "\n",
       "   Years_Active  Champion  \n",
       "0             2     False  \n",
       "1             2     False  \n",
       "2             2     False  \n",
       "3             5     False  \n",
       "4             1     False  \n",
       "\n",
       "[5 rows x 22 columns]"
      ]
     },
     "execution_count": 20,
     "metadata": {},
     "output_type": "execute_result"
    }
   ],
   "source": [
    "df.head()"
   ]
  },
  {
   "cell_type": "code",
   "execution_count": 21,
   "metadata": {},
   "outputs": [
    {
     "data": {
      "text/plain": [
       "Index(['Driver', 'Nationality', 'Seasons', 'Championships', 'Race_Entries',\n",
       "       'Race_Starts', 'Pole_Positions', 'Race_Wins', 'Podiums', 'Fastest_Laps',\n",
       "       'Points', 'Active', 'Championship Years', 'Decade', 'Pole_Rate',\n",
       "       'Start_Rate', 'Win_Rate', 'Podium_Rate', 'FastLap_Rate',\n",
       "       'Points_Per_Entry', 'Years_Active', 'Champion'],\n",
       "      dtype='object')"
      ]
     },
     "execution_count": 21,
     "metadata": {},
     "output_type": "execute_result"
    }
   ],
   "source": [
    "df.columns"
   ]
  },
  {
   "attachments": {},
   "cell_type": "markdown",
   "metadata": {},
   "source": [
    "# What is the distribution of drivers' nationalities in the dataset?"
   ]
  },
  {
   "cell_type": "code",
   "execution_count": 22,
   "metadata": {},
   "outputs": [
    {
     "data": {
      "text/plain": [
       "United Kingdom    164\n",
       "United States     160\n",
       "Italy              99\n",
       "France             72\n",
       "West Germany       39\n",
       "Brazil             32\n",
       "Argentina          25\n",
       "Switzerland        24\n",
       "Belgium            23\n",
       "South Africa       23\n",
       "Japan              21\n",
       "Australia          18\n",
       "Austria            16\n",
       "Netherlands        16\n",
       "Spain              15\n",
       "Canada             15\n",
       "Germany            14\n",
       "Sweden             11\n",
       "Finland             9\n",
       "New Zealand         9\n",
       "Name: Nationality, dtype: int64"
      ]
     },
     "execution_count": 22,
     "metadata": {},
     "output_type": "execute_result"
    }
   ],
   "source": [
    "nationality_drivers = df['Nationality'].value_counts().sort_values(ascending=False).head(20)\n",
    "nationality_drivers"
   ]
  },
  {
   "cell_type": "code",
   "execution_count": 23,
   "metadata": {},
   "outputs": [
    {
     "data": {
      "application/vnd.plotly.v1+json": {
       "config": {
        "plotlyServerURL": "https://plot.ly"
       },
       "data": [
        {
         "domain": {
          "x": [
           0,
           1
          ],
          "y": [
           0,
           1
          ]
         },
         "hovertemplate": "label=%{label}<br>value=%{value}<extra></extra>",
         "labels": [
          "United Kingdom",
          "United States",
          "Italy",
          "France",
          "West Germany",
          "Brazil",
          "Argentina",
          "Switzerland",
          "Belgium",
          "South Africa",
          "Japan",
          "Australia",
          "Austria",
          "Netherlands",
          "Spain",
          "Canada",
          "Germany",
          "Sweden",
          "Finland",
          "New Zealand"
         ],
         "legendgroup": "",
         "name": "",
         "showlegend": true,
         "type": "pie",
         "values": [
          164,
          160,
          99,
          72,
          39,
          32,
          25,
          24,
          23,
          23,
          21,
          18,
          16,
          16,
          15,
          15,
          14,
          11,
          9,
          9
         ]
        }
       ],
       "layout": {
        "legend": {
         "tracegroupgap": 0
        },
        "margin": {
         "t": 60
        },
        "piecolorway": [
         "rgb(103,0,31)",
         "rgb(178,24,43)",
         "rgb(214,96,77)",
         "rgb(244,165,130)",
         "rgb(253,219,199)",
         "rgb(247,247,247)",
         "rgb(209,229,240)",
         "rgb(146,197,222)",
         "rgb(67,147,195)",
         "rgb(33,102,172)",
         "rgb(5,48,97)"
        ],
        "template": {
         "data": {
          "bar": [
           {
            "error_x": {
             "color": "#2a3f5f"
            },
            "error_y": {
             "color": "#2a3f5f"
            },
            "marker": {
             "line": {
              "color": "#E5ECF6",
              "width": 0.5
             },
             "pattern": {
              "fillmode": "overlay",
              "size": 10,
              "solidity": 0.2
             }
            },
            "type": "bar"
           }
          ],
          "barpolar": [
           {
            "marker": {
             "line": {
              "color": "#E5ECF6",
              "width": 0.5
             },
             "pattern": {
              "fillmode": "overlay",
              "size": 10,
              "solidity": 0.2
             }
            },
            "type": "barpolar"
           }
          ],
          "carpet": [
           {
            "aaxis": {
             "endlinecolor": "#2a3f5f",
             "gridcolor": "white",
             "linecolor": "white",
             "minorgridcolor": "white",
             "startlinecolor": "#2a3f5f"
            },
            "baxis": {
             "endlinecolor": "#2a3f5f",
             "gridcolor": "white",
             "linecolor": "white",
             "minorgridcolor": "white",
             "startlinecolor": "#2a3f5f"
            },
            "type": "carpet"
           }
          ],
          "choropleth": [
           {
            "colorbar": {
             "outlinewidth": 0,
             "ticks": ""
            },
            "type": "choropleth"
           }
          ],
          "contour": [
           {
            "colorbar": {
             "outlinewidth": 0,
             "ticks": ""
            },
            "colorscale": [
             [
              0,
              "#0d0887"
             ],
             [
              0.1111111111111111,
              "#46039f"
             ],
             [
              0.2222222222222222,
              "#7201a8"
             ],
             [
              0.3333333333333333,
              "#9c179e"
             ],
             [
              0.4444444444444444,
              "#bd3786"
             ],
             [
              0.5555555555555556,
              "#d8576b"
             ],
             [
              0.6666666666666666,
              "#ed7953"
             ],
             [
              0.7777777777777778,
              "#fb9f3a"
             ],
             [
              0.8888888888888888,
              "#fdca26"
             ],
             [
              1,
              "#f0f921"
             ]
            ],
            "type": "contour"
           }
          ],
          "contourcarpet": [
           {
            "colorbar": {
             "outlinewidth": 0,
             "ticks": ""
            },
            "type": "contourcarpet"
           }
          ],
          "heatmap": [
           {
            "colorbar": {
             "outlinewidth": 0,
             "ticks": ""
            },
            "colorscale": [
             [
              0,
              "#0d0887"
             ],
             [
              0.1111111111111111,
              "#46039f"
             ],
             [
              0.2222222222222222,
              "#7201a8"
             ],
             [
              0.3333333333333333,
              "#9c179e"
             ],
             [
              0.4444444444444444,
              "#bd3786"
             ],
             [
              0.5555555555555556,
              "#d8576b"
             ],
             [
              0.6666666666666666,
              "#ed7953"
             ],
             [
              0.7777777777777778,
              "#fb9f3a"
             ],
             [
              0.8888888888888888,
              "#fdca26"
             ],
             [
              1,
              "#f0f921"
             ]
            ],
            "type": "heatmap"
           }
          ],
          "heatmapgl": [
           {
            "colorbar": {
             "outlinewidth": 0,
             "ticks": ""
            },
            "colorscale": [
             [
              0,
              "#0d0887"
             ],
             [
              0.1111111111111111,
              "#46039f"
             ],
             [
              0.2222222222222222,
              "#7201a8"
             ],
             [
              0.3333333333333333,
              "#9c179e"
             ],
             [
              0.4444444444444444,
              "#bd3786"
             ],
             [
              0.5555555555555556,
              "#d8576b"
             ],
             [
              0.6666666666666666,
              "#ed7953"
             ],
             [
              0.7777777777777778,
              "#fb9f3a"
             ],
             [
              0.8888888888888888,
              "#fdca26"
             ],
             [
              1,
              "#f0f921"
             ]
            ],
            "type": "heatmapgl"
           }
          ],
          "histogram": [
           {
            "marker": {
             "pattern": {
              "fillmode": "overlay",
              "size": 10,
              "solidity": 0.2
             }
            },
            "type": "histogram"
           }
          ],
          "histogram2d": [
           {
            "colorbar": {
             "outlinewidth": 0,
             "ticks": ""
            },
            "colorscale": [
             [
              0,
              "#0d0887"
             ],
             [
              0.1111111111111111,
              "#46039f"
             ],
             [
              0.2222222222222222,
              "#7201a8"
             ],
             [
              0.3333333333333333,
              "#9c179e"
             ],
             [
              0.4444444444444444,
              "#bd3786"
             ],
             [
              0.5555555555555556,
              "#d8576b"
             ],
             [
              0.6666666666666666,
              "#ed7953"
             ],
             [
              0.7777777777777778,
              "#fb9f3a"
             ],
             [
              0.8888888888888888,
              "#fdca26"
             ],
             [
              1,
              "#f0f921"
             ]
            ],
            "type": "histogram2d"
           }
          ],
          "histogram2dcontour": [
           {
            "colorbar": {
             "outlinewidth": 0,
             "ticks": ""
            },
            "colorscale": [
             [
              0,
              "#0d0887"
             ],
             [
              0.1111111111111111,
              "#46039f"
             ],
             [
              0.2222222222222222,
              "#7201a8"
             ],
             [
              0.3333333333333333,
              "#9c179e"
             ],
             [
              0.4444444444444444,
              "#bd3786"
             ],
             [
              0.5555555555555556,
              "#d8576b"
             ],
             [
              0.6666666666666666,
              "#ed7953"
             ],
             [
              0.7777777777777778,
              "#fb9f3a"
             ],
             [
              0.8888888888888888,
              "#fdca26"
             ],
             [
              1,
              "#f0f921"
             ]
            ],
            "type": "histogram2dcontour"
           }
          ],
          "mesh3d": [
           {
            "colorbar": {
             "outlinewidth": 0,
             "ticks": ""
            },
            "type": "mesh3d"
           }
          ],
          "parcoords": [
           {
            "line": {
             "colorbar": {
              "outlinewidth": 0,
              "ticks": ""
             }
            },
            "type": "parcoords"
           }
          ],
          "pie": [
           {
            "automargin": true,
            "type": "pie"
           }
          ],
          "scatter": [
           {
            "marker": {
             "colorbar": {
              "outlinewidth": 0,
              "ticks": ""
             }
            },
            "type": "scatter"
           }
          ],
          "scatter3d": [
           {
            "line": {
             "colorbar": {
              "outlinewidth": 0,
              "ticks": ""
             }
            },
            "marker": {
             "colorbar": {
              "outlinewidth": 0,
              "ticks": ""
             }
            },
            "type": "scatter3d"
           }
          ],
          "scattercarpet": [
           {
            "marker": {
             "colorbar": {
              "outlinewidth": 0,
              "ticks": ""
             }
            },
            "type": "scattercarpet"
           }
          ],
          "scattergeo": [
           {
            "marker": {
             "colorbar": {
              "outlinewidth": 0,
              "ticks": ""
             }
            },
            "type": "scattergeo"
           }
          ],
          "scattergl": [
           {
            "marker": {
             "colorbar": {
              "outlinewidth": 0,
              "ticks": ""
             }
            },
            "type": "scattergl"
           }
          ],
          "scattermapbox": [
           {
            "marker": {
             "colorbar": {
              "outlinewidth": 0,
              "ticks": ""
             }
            },
            "type": "scattermapbox"
           }
          ],
          "scatterpolar": [
           {
            "marker": {
             "colorbar": {
              "outlinewidth": 0,
              "ticks": ""
             }
            },
            "type": "scatterpolar"
           }
          ],
          "scatterpolargl": [
           {
            "marker": {
             "colorbar": {
              "outlinewidth": 0,
              "ticks": ""
             }
            },
            "type": "scatterpolargl"
           }
          ],
          "scatterternary": [
           {
            "marker": {
             "colorbar": {
              "outlinewidth": 0,
              "ticks": ""
             }
            },
            "type": "scatterternary"
           }
          ],
          "surface": [
           {
            "colorbar": {
             "outlinewidth": 0,
             "ticks": ""
            },
            "colorscale": [
             [
              0,
              "#0d0887"
             ],
             [
              0.1111111111111111,
              "#46039f"
             ],
             [
              0.2222222222222222,
              "#7201a8"
             ],
             [
              0.3333333333333333,
              "#9c179e"
             ],
             [
              0.4444444444444444,
              "#bd3786"
             ],
             [
              0.5555555555555556,
              "#d8576b"
             ],
             [
              0.6666666666666666,
              "#ed7953"
             ],
             [
              0.7777777777777778,
              "#fb9f3a"
             ],
             [
              0.8888888888888888,
              "#fdca26"
             ],
             [
              1,
              "#f0f921"
             ]
            ],
            "type": "surface"
           }
          ],
          "table": [
           {
            "cells": {
             "fill": {
              "color": "#EBF0F8"
             },
             "line": {
              "color": "white"
             }
            },
            "header": {
             "fill": {
              "color": "#C8D4E3"
             },
             "line": {
              "color": "white"
             }
            },
            "type": "table"
           }
          ]
         },
         "layout": {
          "annotationdefaults": {
           "arrowcolor": "#2a3f5f",
           "arrowhead": 0,
           "arrowwidth": 1
          },
          "autotypenumbers": "strict",
          "coloraxis": {
           "colorbar": {
            "outlinewidth": 0,
            "ticks": ""
           }
          },
          "colorscale": {
           "diverging": [
            [
             0,
             "#8e0152"
            ],
            [
             0.1,
             "#c51b7d"
            ],
            [
             0.2,
             "#de77ae"
            ],
            [
             0.3,
             "#f1b6da"
            ],
            [
             0.4,
             "#fde0ef"
            ],
            [
             0.5,
             "#f7f7f7"
            ],
            [
             0.6,
             "#e6f5d0"
            ],
            [
             0.7,
             "#b8e186"
            ],
            [
             0.8,
             "#7fbc41"
            ],
            [
             0.9,
             "#4d9221"
            ],
            [
             1,
             "#276419"
            ]
           ],
           "sequential": [
            [
             0,
             "#0d0887"
            ],
            [
             0.1111111111111111,
             "#46039f"
            ],
            [
             0.2222222222222222,
             "#7201a8"
            ],
            [
             0.3333333333333333,
             "#9c179e"
            ],
            [
             0.4444444444444444,
             "#bd3786"
            ],
            [
             0.5555555555555556,
             "#d8576b"
            ],
            [
             0.6666666666666666,
             "#ed7953"
            ],
            [
             0.7777777777777778,
             "#fb9f3a"
            ],
            [
             0.8888888888888888,
             "#fdca26"
            ],
            [
             1,
             "#f0f921"
            ]
           ],
           "sequentialminus": [
            [
             0,
             "#0d0887"
            ],
            [
             0.1111111111111111,
             "#46039f"
            ],
            [
             0.2222222222222222,
             "#7201a8"
            ],
            [
             0.3333333333333333,
             "#9c179e"
            ],
            [
             0.4444444444444444,
             "#bd3786"
            ],
            [
             0.5555555555555556,
             "#d8576b"
            ],
            [
             0.6666666666666666,
             "#ed7953"
            ],
            [
             0.7777777777777778,
             "#fb9f3a"
            ],
            [
             0.8888888888888888,
             "#fdca26"
            ],
            [
             1,
             "#f0f921"
            ]
           ]
          },
          "colorway": [
           "#636efa",
           "#EF553B",
           "#00cc96",
           "#ab63fa",
           "#FFA15A",
           "#19d3f3",
           "#FF6692",
           "#B6E880",
           "#FF97FF",
           "#FECB52"
          ],
          "font": {
           "color": "#2a3f5f"
          },
          "geo": {
           "bgcolor": "white",
           "lakecolor": "white",
           "landcolor": "#E5ECF6",
           "showlakes": true,
           "showland": true,
           "subunitcolor": "white"
          },
          "hoverlabel": {
           "align": "left"
          },
          "hovermode": "closest",
          "mapbox": {
           "style": "light"
          },
          "paper_bgcolor": "white",
          "plot_bgcolor": "#E5ECF6",
          "polar": {
           "angularaxis": {
            "gridcolor": "white",
            "linecolor": "white",
            "ticks": ""
           },
           "bgcolor": "#E5ECF6",
           "radialaxis": {
            "gridcolor": "white",
            "linecolor": "white",
            "ticks": ""
           }
          },
          "scene": {
           "xaxis": {
            "backgroundcolor": "#E5ECF6",
            "gridcolor": "white",
            "gridwidth": 2,
            "linecolor": "white",
            "showbackground": true,
            "ticks": "",
            "zerolinecolor": "white"
           },
           "yaxis": {
            "backgroundcolor": "#E5ECF6",
            "gridcolor": "white",
            "gridwidth": 2,
            "linecolor": "white",
            "showbackground": true,
            "ticks": "",
            "zerolinecolor": "white"
           },
           "zaxis": {
            "backgroundcolor": "#E5ECF6",
            "gridcolor": "white",
            "gridwidth": 2,
            "linecolor": "white",
            "showbackground": true,
            "ticks": "",
            "zerolinecolor": "white"
           }
          },
          "shapedefaults": {
           "line": {
            "color": "#2a3f5f"
           }
          },
          "ternary": {
           "aaxis": {
            "gridcolor": "white",
            "linecolor": "white",
            "ticks": ""
           },
           "baxis": {
            "gridcolor": "white",
            "linecolor": "white",
            "ticks": ""
           },
           "bgcolor": "#E5ECF6",
           "caxis": {
            "gridcolor": "white",
            "linecolor": "white",
            "ticks": ""
           }
          },
          "title": {
           "x": 0.05
          },
          "xaxis": {
           "automargin": true,
           "gridcolor": "white",
           "linecolor": "white",
           "ticks": "",
           "title": {
            "standoff": 15
           },
           "zerolinecolor": "white",
           "zerolinewidth": 2
          },
          "yaxis": {
           "automargin": true,
           "gridcolor": "white",
           "linecolor": "white",
           "ticks": "",
           "title": {
            "standoff": 15
           },
           "zerolinecolor": "white",
           "zerolinewidth": 2
          }
         }
        }
       }
      }
     },
     "metadata": {},
     "output_type": "display_data"
    }
   ],
   "source": [
    "\n",
    "def generate_chart(names, values):\n",
    "    df = px.data.tips() \n",
    "    fig = px.pie(df, values=values, names=names, color_discrete_sequence=px.colors.sequential.RdBu)\n",
    "    return fig\n",
    "\n",
    "generate_chart(nationality_drivers.index,nationality_drivers.values)\n",
    "\n",
    "\n"
   ]
  },
  {
   "attachments": {},
   "cell_type": "markdown",
   "metadata": {},
   "source": [
    "There are more drivers from the UK than the US."
   ]
  },
  {
   "attachments": {},
   "cell_type": "markdown",
   "metadata": {},
   "source": [
    "# What is the correlation between the number of seasons a driver participates in and their number of race wins?"
   ]
  },
  {
   "cell_type": "code",
   "execution_count": 24,
   "metadata": {},
   "outputs": [
    {
     "data": {
      "text/html": [
       "<div>\n",
       "<style scoped>\n",
       "    .dataframe tbody tr th:only-of-type {\n",
       "        vertical-align: middle;\n",
       "    }\n",
       "\n",
       "    .dataframe tbody tr th {\n",
       "        vertical-align: top;\n",
       "    }\n",
       "\n",
       "    .dataframe thead th {\n",
       "        text-align: right;\n",
       "    }\n",
       "</style>\n",
       "<table border=\"1\" class=\"dataframe\">\n",
       "  <thead>\n",
       "    <tr style=\"text-align: right;\">\n",
       "      <th></th>\n",
       "      <th>Years_Active</th>\n",
       "      <th>Race_Wins</th>\n",
       "    </tr>\n",
       "  </thead>\n",
       "  <tbody>\n",
       "    <tr>\n",
       "      <th>0</th>\n",
       "      <td>2</td>\n",
       "      <td>0.0</td>\n",
       "    </tr>\n",
       "    <tr>\n",
       "      <th>1</th>\n",
       "      <td>2</td>\n",
       "      <td>0.0</td>\n",
       "    </tr>\n",
       "    <tr>\n",
       "      <th>2</th>\n",
       "      <td>2</td>\n",
       "      <td>0.0</td>\n",
       "    </tr>\n",
       "    <tr>\n",
       "      <th>3</th>\n",
       "      <td>5</td>\n",
       "      <td>0.0</td>\n",
       "    </tr>\n",
       "    <tr>\n",
       "      <th>4</th>\n",
       "      <td>1</td>\n",
       "      <td>0.0</td>\n",
       "    </tr>\n",
       "  </tbody>\n",
       "</table>\n",
       "</div>"
      ],
      "text/plain": [
       "   Years_Active  Race_Wins\n",
       "0             2        0.0\n",
       "1             2        0.0\n",
       "2             2        0.0\n",
       "3             5        0.0\n",
       "4             1        0.0"
      ]
     },
     "execution_count": 24,
     "metadata": {},
     "output_type": "execute_result"
    }
   ],
   "source": [
    "df_winsvsyears = df[['Years_Active','Race_Wins']]\n",
    "df_winsvsyears.head()"
   ]
  },
  {
   "cell_type": "code",
   "execution_count": 25,
   "metadata": {},
   "outputs": [
    {
     "name": "stderr",
     "output_type": "stream",
     "text": [
      "/var/folders/m8/46ljcdl90cgc6gmrl35m898c0000gn/T/ipykernel_16772/1976922437.py:1: SettingWithCopyWarning:\n",
      "\n",
      "\n",
      "A value is trying to be set on a copy of a slice from a DataFrame\n",
      "\n",
      "See the caveats in the documentation: https://pandas.pydata.org/pandas-docs/stable/user_guide/indexing.html#returning-a-view-versus-a-copy\n",
      "\n"
     ]
    }
   ],
   "source": [
    "df_winsvsyears.fillna(method ='ffill',inplace=True)"
   ]
  },
  {
   "cell_type": "code",
   "execution_count": 26,
   "metadata": {},
   "outputs": [
    {
     "data": {
      "text/plain": [
       "Years_Active    0\n",
       "Race_Wins       0\n",
       "dtype: int64"
      ]
     },
     "execution_count": 26,
     "metadata": {},
     "output_type": "execute_result"
    }
   ],
   "source": [
    "df_winsvsyears.isnull().sum()"
   ]
  },
  {
   "cell_type": "code",
   "execution_count": 27,
   "metadata": {},
   "outputs": [],
   "source": [
    "X= df_winsvsyears['Years_Active'].to_numpy().reshape(-1,1)\n",
    "y = df_winsvsyears['Race_Wins'].to_numpy().reshape(-1,1)"
   ]
  },
  {
   "cell_type": "code",
   "execution_count": 28,
   "metadata": {},
   "outputs": [
    {
     "name": "stderr",
     "output_type": "stream",
     "text": [
      "/var/folders/m8/46ljcdl90cgc6gmrl35m898c0000gn/T/ipykernel_16772/299058993.py:5: DataConversionWarning:\n",
      "\n",
      "A column-vector y was passed when a 1d array was expected. Please change the shape of y to (n_samples,), for example using ravel().\n",
      "\n"
     ]
    }
   ],
   "source": [
    "\n",
    "X_train, X_test, y_train, y_test = train_test_split(X, y, test_size=0.2, random_state=42)\n",
    "\n",
    "rf_regressor = RandomForestRegressor(n_estimators=200, max_depth=None)\n",
    "\n",
    "rf_regressor.fit(X_train, y_train)\n",
    "\n",
    "y_pred = rf_regressor.predict(X_test)\n",
    "\n"
   ]
  },
  {
   "cell_type": "code",
   "execution_count": 29,
   "metadata": {},
   "outputs": [
    {
     "name": "stdout",
     "output_type": "stream",
     "text": [
      "Mean Squared Error:  21.884675950101634\n",
      "corr coef 0.5037167768266374\n"
     ]
    }
   ],
   "source": [
    "corr_coef = df['Years_Active'].corr(df['Race_Wins'])\n",
    "mse = mean_squared_error(y_test, y_pred)\n",
    "\n",
    "print(\"Mean Squared Error: \", mse)\n",
    "print(\"corr coef\",corr_coef)"
   ]
  },
  {
   "attachments": {},
   "cell_type": "markdown",
   "metadata": {},
   "source": [
    "there may be other factors beyond the number of years of experience that contribute to a driver's success in Formula 1."
   ]
  },
  {
   "attachments": {},
   "cell_type": "markdown",
   "metadata": {},
   "source": [
    "# Pole positions vs Race wins of champions"
   ]
  },
  {
   "cell_type": "code",
   "execution_count": 30,
   "metadata": {},
   "outputs": [
    {
     "data": {
      "text/html": [
       "<div>\n",
       "<style scoped>\n",
       "    .dataframe tbody tr th:only-of-type {\n",
       "        vertical-align: middle;\n",
       "    }\n",
       "\n",
       "    .dataframe tbody tr th {\n",
       "        vertical-align: top;\n",
       "    }\n",
       "\n",
       "    .dataframe thead th {\n",
       "        text-align: right;\n",
       "    }\n",
       "</style>\n",
       "<table border=\"1\" class=\"dataframe\">\n",
       "  <thead>\n",
       "    <tr style=\"text-align: right;\">\n",
       "      <th></th>\n",
       "      <th>Driver</th>\n",
       "      <th>Nationality</th>\n",
       "      <th>Seasons</th>\n",
       "      <th>Championships</th>\n",
       "      <th>Race_Entries</th>\n",
       "      <th>Race_Starts</th>\n",
       "      <th>Pole_Positions</th>\n",
       "      <th>Race_Wins</th>\n",
       "      <th>Podiums</th>\n",
       "      <th>Fastest_Laps</th>\n",
       "      <th>...</th>\n",
       "      <th>Championship Years</th>\n",
       "      <th>Decade</th>\n",
       "      <th>Pole_Rate</th>\n",
       "      <th>Start_Rate</th>\n",
       "      <th>Win_Rate</th>\n",
       "      <th>Podium_Rate</th>\n",
       "      <th>FastLap_Rate</th>\n",
       "      <th>Points_Per_Entry</th>\n",
       "      <th>Years_Active</th>\n",
       "      <th>Champion</th>\n",
       "    </tr>\n",
       "  </thead>\n",
       "  <tbody>\n",
       "    <tr>\n",
       "      <th>17</th>\n",
       "      <td>Fernando Alonso</td>\n",
       "      <td>Spain</td>\n",
       "      <td>[2001, 2003, 2004, 2005, 2006, 2007, 2008, 200...</td>\n",
       "      <td>2.0</td>\n",
       "      <td>359.0</td>\n",
       "      <td>356.0</td>\n",
       "      <td>22.0</td>\n",
       "      <td>32.0</td>\n",
       "      <td>99.0</td>\n",
       "      <td>23.0</td>\n",
       "      <td>...</td>\n",
       "      <td>[2005, 2006]</td>\n",
       "      <td>2010</td>\n",
       "      <td>0.061281</td>\n",
       "      <td>0.991643</td>\n",
       "      <td>0.089136</td>\n",
       "      <td>0.275766</td>\n",
       "      <td>0.064067</td>\n",
       "      <td>5.782730</td>\n",
       "      <td>19</td>\n",
       "      <td>True</td>\n",
       "    </tr>\n",
       "    <tr>\n",
       "      <th>25</th>\n",
       "      <td>Mario Andretti</td>\n",
       "      <td>United States</td>\n",
       "      <td>[1968, 1969, 1970, 1971, 1972, 1974, 1975, 197...</td>\n",
       "      <td>1.0</td>\n",
       "      <td>131.0</td>\n",
       "      <td>128.0</td>\n",
       "      <td>18.0</td>\n",
       "      <td>12.0</td>\n",
       "      <td>19.0</td>\n",
       "      <td>10.0</td>\n",
       "      <td>...</td>\n",
       "      <td>[1978]</td>\n",
       "      <td>1980</td>\n",
       "      <td>0.137405</td>\n",
       "      <td>0.977099</td>\n",
       "      <td>0.091603</td>\n",
       "      <td>0.145038</td>\n",
       "      <td>0.076336</td>\n",
       "      <td>1.374046</td>\n",
       "      <td>14</td>\n",
       "      <td>True</td>\n",
       "    </tr>\n",
       "    <tr>\n",
       "      <th>35</th>\n",
       "      <td>Alberto Ascari</td>\n",
       "      <td>Italy</td>\n",
       "      <td>[1950, 1951, 1952, 1953, 1954, 1955]</td>\n",
       "      <td>2.0</td>\n",
       "      <td>33.0</td>\n",
       "      <td>32.0</td>\n",
       "      <td>14.0</td>\n",
       "      <td>13.0</td>\n",
       "      <td>17.0</td>\n",
       "      <td>12.0</td>\n",
       "      <td>...</td>\n",
       "      <td>[1952, 1953]</td>\n",
       "      <td>1950</td>\n",
       "      <td>0.424242</td>\n",
       "      <td>0.969697</td>\n",
       "      <td>0.393939</td>\n",
       "      <td>0.515152</td>\n",
       "      <td>0.363636</td>\n",
       "      <td>3.261818</td>\n",
       "      <td>6</td>\n",
       "      <td>True</td>\n",
       "    </tr>\n",
       "    <tr>\n",
       "      <th>107</th>\n",
       "      <td>Jack Brabham</td>\n",
       "      <td>Australia</td>\n",
       "      <td>[1955, 1956, 1957, 1958, 1959, 1960, 1961, 196...</td>\n",
       "      <td>3.0</td>\n",
       "      <td>128.0</td>\n",
       "      <td>126.0</td>\n",
       "      <td>13.0</td>\n",
       "      <td>14.0</td>\n",
       "      <td>31.0</td>\n",
       "      <td>12.0</td>\n",
       "      <td>...</td>\n",
       "      <td>[1959, 1960, 1966]</td>\n",
       "      <td>1960</td>\n",
       "      <td>0.101562</td>\n",
       "      <td>0.984375</td>\n",
       "      <td>0.109375</td>\n",
       "      <td>0.242188</td>\n",
       "      <td>0.093750</td>\n",
       "      <td>1.976562</td>\n",
       "      <td>16</td>\n",
       "      <td>True</td>\n",
       "    </tr>\n",
       "    <tr>\n",
       "      <th>135</th>\n",
       "      <td>Jenson Button</td>\n",
       "      <td>United Kingdom</td>\n",
       "      <td>[2000, 2001, 2002, 2003, 2004, 2005, 2006, 200...</td>\n",
       "      <td>1.0</td>\n",
       "      <td>309.0</td>\n",
       "      <td>306.0</td>\n",
       "      <td>8.0</td>\n",
       "      <td>15.0</td>\n",
       "      <td>50.0</td>\n",
       "      <td>8.0</td>\n",
       "      <td>...</td>\n",
       "      <td>[2009]</td>\n",
       "      <td>2010</td>\n",
       "      <td>0.025890</td>\n",
       "      <td>0.990291</td>\n",
       "      <td>0.048544</td>\n",
       "      <td>0.161812</td>\n",
       "      <td>0.025890</td>\n",
       "      <td>3.996764</td>\n",
       "      <td>18</td>\n",
       "      <td>True</td>\n",
       "    </tr>\n",
       "  </tbody>\n",
       "</table>\n",
       "<p>5 rows × 22 columns</p>\n",
       "</div>"
      ],
      "text/plain": [
       "              Driver     Nationality  \\\n",
       "17   Fernando Alonso           Spain   \n",
       "25    Mario Andretti   United States   \n",
       "35    Alberto Ascari           Italy   \n",
       "107     Jack Brabham       Australia   \n",
       "135    Jenson Button  United Kingdom   \n",
       "\n",
       "                                               Seasons  Championships  \\\n",
       "17   [2001, 2003, 2004, 2005, 2006, 2007, 2008, 200...            2.0   \n",
       "25   [1968, 1969, 1970, 1971, 1972, 1974, 1975, 197...            1.0   \n",
       "35                [1950, 1951, 1952, 1953, 1954, 1955]            2.0   \n",
       "107  [1955, 1956, 1957, 1958, 1959, 1960, 1961, 196...            3.0   \n",
       "135  [2000, 2001, 2002, 2003, 2004, 2005, 2006, 200...            1.0   \n",
       "\n",
       "     Race_Entries  Race_Starts  Pole_Positions  Race_Wins  Podiums  \\\n",
       "17          359.0        356.0            22.0       32.0     99.0   \n",
       "25          131.0        128.0            18.0       12.0     19.0   \n",
       "35           33.0         32.0            14.0       13.0     17.0   \n",
       "107         128.0        126.0            13.0       14.0     31.0   \n",
       "135         309.0        306.0             8.0       15.0     50.0   \n",
       "\n",
       "     Fastest_Laps  ...  Championship Years  Decade Pole_Rate  Start_Rate  \\\n",
       "17           23.0  ...        [2005, 2006]    2010  0.061281    0.991643   \n",
       "25           10.0  ...              [1978]    1980  0.137405    0.977099   \n",
       "35           12.0  ...        [1952, 1953]    1950  0.424242    0.969697   \n",
       "107          12.0  ...  [1959, 1960, 1966]    1960  0.101562    0.984375   \n",
       "135           8.0  ...              [2009]    2010  0.025890    0.990291   \n",
       "\n",
       "     Win_Rate  Podium_Rate  FastLap_Rate  Points_Per_Entry  Years_Active  \\\n",
       "17   0.089136     0.275766      0.064067          5.782730            19   \n",
       "25   0.091603     0.145038      0.076336          1.374046            14   \n",
       "35   0.393939     0.515152      0.363636          3.261818             6   \n",
       "107  0.109375     0.242188      0.093750          1.976562            16   \n",
       "135  0.048544     0.161812      0.025890          3.996764            18   \n",
       "\n",
       "     Champion  \n",
       "17       True  \n",
       "25       True  \n",
       "35       True  \n",
       "107      True  \n",
       "135      True  \n",
       "\n",
       "[5 rows x 22 columns]"
      ]
     },
     "execution_count": 30,
     "metadata": {},
     "output_type": "execute_result"
    }
   ],
   "source": [
    "df_champions = df.query('Championships > 0')\n",
    "df_champions.head()"
   ]
  },
  {
   "cell_type": "code",
   "execution_count": 31,
   "metadata": {},
   "outputs": [
    {
     "data": {
      "text/plain": [
       "Driver                0\n",
       "Nationality           0\n",
       "Seasons               0\n",
       "Championships         0\n",
       "Race_Entries          0\n",
       "Race_Starts           0\n",
       "Pole_Positions        0\n",
       "Race_Wins             0\n",
       "Podiums               0\n",
       "Fastest_Laps          0\n",
       "Points                0\n",
       "Active                0\n",
       "Championship Years    0\n",
       "Decade                0\n",
       "Pole_Rate             0\n",
       "Start_Rate            0\n",
       "Win_Rate              0\n",
       "Podium_Rate           0\n",
       "FastLap_Rate          0\n",
       "Points_Per_Entry      0\n",
       "Years_Active          0\n",
       "Champion              0\n",
       "dtype: int64"
      ]
     },
     "execution_count": 31,
     "metadata": {},
     "output_type": "execute_result"
    }
   ],
   "source": [
    "df_champions.isnull().sum()"
   ]
  },
  {
   "cell_type": "code",
   "execution_count": 32,
   "metadata": {},
   "outputs": [],
   "source": [
    "from sklearn.metrics import mean_squared_error\n",
    "def linear_regression(df, predictor, target):\n",
    "    \n",
    "    # to fit a linear regression model to the data\n",
    "    X = df[predictor].values.reshape(-1,1)\n",
    "    y = df[target].values.reshape(-1,1)\n",
    "    \n",
    "    regressor = LinearRegression()\n",
    "    regressor.fit(X, y)\n",
    "    \n",
    "    # Calculate the R-squared value of the linear regression model\n",
    "    r_squared = regressor.score(X, y)\n",
    "    \n",
    "    # Calculate the correlation coefficient \n",
    "    corr_coef = df[predictor].corr(df[target])\n",
    "    \n",
    "    # Predict the target variable using the predictor variable\n",
    "    y_pred = regressor.predict(X)\n",
    "    \n",
    "    # Calculate the prediction score\n",
    "    prediction_score = mean_squared_error(y, y_pred)\n",
    "    \n",
    "    # Create a scatter plot to visualize the relationship between the predictor and target\n",
    "    fig = sns.lmplot(x=predictor,y=target,data=df)\n",
    "    \n",
    "    # Plot the regression line on top of the scatter plot\n",
    "    plt.plot(df[predictor], regressor.predict(df[[predictor]]), color='red')\n",
    "    \n",
    "    return corr_coef, r_squared, y_pred, prediction_score, fig\n"
   ]
  },
  {
   "cell_type": "code",
   "execution_count": 33,
   "metadata": {},
   "outputs": [
    {
     "name": "stdout",
     "output_type": "stream",
     "text": [
      "prediction_score 68.33930367927572\n",
      "correlation coefficient 0.9280326627611927\n",
      "R-squared: 0.8612446231516298\n"
     ]
    },
    {
     "name": "stderr",
     "output_type": "stream",
     "text": [
      "/Users/chandanamulagund/opt/anaconda3/lib/python3.9/site-packages/sklearn/base.py:443: UserWarning:\n",
      "\n",
      "X has feature names, but LinearRegression was fitted without feature names\n",
      "\n"
     ]
    },
    {
     "data": {
      "image/png": "[encoded data removed]",
      "text/plain": [
       "<Figure size 360x360 with 1 Axes>"
      ]
     },
     "metadata": {
      "needs_background": "light"
     },
     "output_type": "display_data"
    }
   ],
   "source": [
    "corr_coef, r_squared, y_pred, prediction_score, fig = linear_regression(df_champions, 'Pole_Positions', 'Race_Wins')\n",
    "\n",
    "\n",
    "print('prediction_score', prediction_score)\n",
    "print('correlation coefficient', corr_coef)\n",
    "print('R-squared:', r_squared)\n",
    "\n"
   ]
  },
  {
   "attachments": {},
   "cell_type": "markdown",
   "metadata": {},
   "source": [
    "the pole position is a very good predictor of race wins for champions, and that a higher pole position is generally associated with a higher number of race wins."
   ]
  }
 ],
 "metadata": {
  "kernelspec": {
   "display_name": "Python 3",
   "language": "python",
   "name": "python3"
  },
  "language_info": {
   "codemirror_mode": {
    "name": "ipython",
    "version": 3
   },
   "file_extension": ".py",
   "mimetype": "text/x-python",
   "name": "python",
   "nbconvert_exporter": "python",
   "pygments_lexer": "ipython3",
   "version": "3.9.12"
  },
  "orig_nbformat": 4
 },
 "nbformat": 4,
 "nbformat_minor": 2
}
